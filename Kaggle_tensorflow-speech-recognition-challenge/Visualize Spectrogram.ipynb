{
 "cells": [
  {
   "cell_type": "code",
   "execution_count": 9,
   "metadata": {},
   "outputs": [],
   "source": [
    "import IPython.display as ipd\n",
    "from scipy.io import wavfile"
   ]
  },
  {
   "cell_type": "code",
   "execution_count": 10,
   "metadata": {},
   "outputs": [],
   "source": [
    "import numpy as np\n",
    "from scipy import signal"
   ]
  },
  {
   "cell_type": "code",
   "execution_count": 11,
   "metadata": {},
   "outputs": [],
   "source": [
    "import matplotlib.pyplot as plt\n",
    "import seaborn as sns\n",
    "%matplotlib inline #jupyter notebook용 Magic 명령어"
   ]
  },
  {
   "cell_type": "code",
   "execution_count": 12,
   "metadata": {},
   "outputs": [],
   "source": [
    "import librosa\n",
    "import librosa.display"
   ]
  },
  {
   "cell_type": "code",
   "execution_count": 13,
   "metadata": {},
   "outputs": [],
   "source": [
    "# 음성 파일 경로를 지정한다\n",
    "data_dir = 'C:/Users/BINU/.kaggle/'\n",
    "train_audio_path = data_dir + 'train/audio/'\n",
    "filename = 'yes/0a7c2a8d_nohash_0.wav'\n",
    "sample_rate, samples = wavfile.read(str(train_audio_path) + filename)"
   ]
  },
  {
   "cell_type": "code",
   "execution_count": 29,
   "metadata": {},
   "outputs": [],
   "source": [
    "# 스펙트로그램을 계산하는 함수\n",
    "def specgram(audio, sample_rate, window_size=20, step_size=10, eps=1e-10):\n",
    "    nperseg = int(round(window_size * sample_rate / 1e3))\n",
    "    noverlap = int (round(step_size * sample_rate / 1e3))\n",
    "    freqs, times, spec = signal.spectrogram(audio,\n",
    "                                            fs=sample_rate, \n",
    "                                            window='hann',\n",
    "                                            nperseg=nperseg, \n",
    "                                            noverlap=noverlap, \n",
    "                                            detrend=False)\n",
    "    return freqs, times, spec.T.astype(np.float32)"
   ]
  },
  {
   "cell_type": "code",
   "execution_count": 33,
   "metadata": {},
   "outputs": [
    {
     "data": {
      "text/plain": [
       "Text(0.5,0,'Seconds')"
      ]
     },
     "execution_count": 33,
     "metadata": {},
     "output_type": "execute_result"
    },
    {
     "data": {
      "image/png": "[encoded data removed]",
      "text/plain": [
       "<Figure size 1008x576 with 1 Axes>"
      ]
     },
     "metadata": {},
     "output_type": "display_data"
    }
   ],
   "source": [
    "# 스펙트로그램을 시각화한다\n",
    "freqs, times, spectrogram = specgram(samples, sample_rate)\n",
    "fig = plt.figure(figsize=(14,8))\n",
    "ax1 = fig.add_subplot(211)\n",
    "ax1.imshow(spectrogram.T, aspect='auto', origin='lower',\n",
    "          extent=[times.min(), times.max(), freqs.min(), freqs.max()])\n",
    "ax1.set_yticks(freqs[::16])\n",
    "ax1.set_xticks(times[::16])\n",
    "ax1.set_title('Spectrogram of ' + filename)\n",
    "ax1.set_ylabel('Freqs in Hz')\n",
    "ax1.set_xlabel('Seconds')"
   ]
  },
  {
   "cell_type": "code",
   "execution_count": null,
   "metadata": {},
   "outputs": [],
   "source": []
  }
 ],
 "metadata": {
  "kernelspec": {
   "display_name": "Python 3",
   "language": "python",
   "name": "python3"
  },
  "language_info": {
   "codemirror_mode": {
    "name": "ipython",
    "version": 3
   },
   "file_extension": ".py",
   "mimetype": "text/x-python",
   "name": "python",
   "nbconvert_exporter": "python",
   "pygments_lexer": "ipython3",
   "version": "3.6.5"
  }
 },
 "nbformat": 4,
 "nbformat_minor": 2
}
